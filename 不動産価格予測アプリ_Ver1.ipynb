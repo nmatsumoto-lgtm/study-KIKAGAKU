{
  "nbformat": 4,
  "nbformat_minor": 0,
  "metadata": {
    "colab": {
      "provenance": [],
      "gpuType": "T4",
      "authorship_tag": "ABX9TyOts7SBc3qivXCEhS1kEbdn",
      "include_colab_link": true
    },
    "kernelspec": {
      "name": "python3",
      "display_name": "Python 3"
    },
    "language_info": {
      "name": "python"
    },
    "accelerator": "GPU"
  },
  "cells": [
    {
      "cell_type": "markdown",
      "metadata": {
        "id": "view-in-github",
        "colab_type": "text"
      },
      "source": [
        "<a href=\"https://colab.research.google.com/github/nmatsumoto-lgtm/study-KIKAGAKU/blob/main/%E4%B8%8D%E5%8B%95%E7%94%A3%E4%BE%A1%E6%A0%BC%E4%BA%88%E6%B8%AC%E3%82%A2%E3%83%97%E3%83%AA_Ver1.ipynb\" target=\"_parent\"><img src=\"https://colab.research.google.com/assets/colab-badge.svg\" alt=\"Open In Colab\"/></a>"
      ]
    },
    {
      "cell_type": "code",
      "source": [
        "!pip -q install streamlit"
      ],
      "metadata": {
        "colab": {
          "base_uri": "https://localhost:8080/"
        },
        "id": "lzkvvEx6FOqW",
        "outputId": "017d2186-7053-4d19-f0b8-8ff96ef7df50"
      },
      "execution_count": null,
      "outputs": [
        {
          "output_type": "stream",
          "name": "stdout",
          "text": [
            "\u001b[?25l   \u001b[90m━━━━━━━━━━━━━━━━━━━━━━━━━━━━━━━━━━━━━━━━\u001b[0m \u001b[32m0.0/9.9 MB\u001b[0m \u001b[31m?\u001b[0m eta \u001b[36m-:--:--\u001b[0m\r\u001b[2K   \u001b[91m━━━━━━━━━━━━━━━━━━━\u001b[0m\u001b[90m╺\u001b[0m\u001b[90m━━━━━━━━━━━━━━━━━━━━\u001b[0m \u001b[32m4.8/9.9 MB\u001b[0m \u001b[31m144.4 MB/s\u001b[0m eta \u001b[36m0:00:01\u001b[0m\r\u001b[2K   \u001b[91m━━━━━━━━━━━━━━━━━━━━━━━━━━━━━━━━━━━━━━━\u001b[0m\u001b[91m╸\u001b[0m \u001b[32m9.9/9.9 MB\u001b[0m \u001b[31m156.1 MB/s\u001b[0m eta \u001b[36m0:00:01\u001b[0m\r\u001b[2K   \u001b[91m━━━━━━━━━━━━━━━━━━━━━━━━━━━━━━━━━━━━━━━\u001b[0m\u001b[91m╸\u001b[0m \u001b[32m9.9/9.9 MB\u001b[0m \u001b[31m156.1 MB/s\u001b[0m eta \u001b[36m0:00:01\u001b[0m\r\u001b[2K   \u001b[90m━━━━━━━━━━━━━━━━━━━━━━━━━━━━━━━━━━━━━━━━\u001b[0m \u001b[32m9.9/9.9 MB\u001b[0m \u001b[31m91.3 MB/s\u001b[0m eta \u001b[36m0:00:00\u001b[0m\n",
            "\u001b[?25h\u001b[?25l   \u001b[90m━━━━━━━━━━━━━━━━━━━━━━━━━━━━━━━━━━━━━━━━\u001b[0m \u001b[32m0.0/6.9 MB\u001b[0m \u001b[31m?\u001b[0m eta \u001b[36m-:--:--\u001b[0m\r\u001b[2K   \u001b[91m━━━━━━━━━━━━━━━━━━━━━━━━━━━━━━━━━━\u001b[0m\u001b[90m╺\u001b[0m\u001b[90m━━━━━\u001b[0m \u001b[32m5.9/6.9 MB\u001b[0m \u001b[31m177.4 MB/s\u001b[0m eta \u001b[36m0:00:01\u001b[0m\r\u001b[2K   \u001b[91m━━━━━━━━━━━━━━━━━━━━━━━━━━━━━━━━━━━━━━━\u001b[0m\u001b[91m╸\u001b[0m \u001b[32m6.9/6.9 MB\u001b[0m \u001b[31m172.8 MB/s\u001b[0m eta \u001b[36m0:00:01\u001b[0m\r\u001b[2K   \u001b[90m━━━━━━━━━━━━━━━━━━━━━━━━━━━━━━━━━━━━━━━━\u001b[0m \u001b[32m6.9/6.9 MB\u001b[0m \u001b[31m98.1 MB/s\u001b[0m eta \u001b[36m0:00:00\u001b[0m\n",
            "\u001b[?25h"
          ]
        }
      ]
    },
    {
      "cell_type": "code",
      "execution_count": null,
      "metadata": {
        "id": "Dp0gwYyjEF7G"
      },
      "outputs": [],
      "source": [
        "import pandas as pd\n",
        "import numpy as np\n",
        "import lightgbm as lgb\n",
        "import torch\n",
        "import torch.nn as nn\n",
        "import re\n",
        "from torchvision import models, transforms\n",
        "from PIL import Image\n",
        "from sklearn.model_selection import train_test_split\n",
        "from sklearn.metrics import mean_absolute_error\n",
        "from sklearn.preprocessing import LabelEncoder\n",
        "import streamlit as st\n",
        "from datetime import datetime\n",
        "from pathlib import Path"
      ]
    },
    {
      "cell_type": "code",
      "source": [
        "df = pd.read_csv(\"Tokyo_Chuo Ward_20242_20251.csv\", encoding=\"cp932\")"
      ],
      "metadata": {
        "id": "h9MAlV9KE0c8"
      },
      "execution_count": null,
      "outputs": []
    },
    {
      "cell_type": "code",
      "source": [
        "df.head(10)"
      ],
      "metadata": {
        "id": "o0NgmBn2Fqhc",
        "colab": {
          "base_uri": "https://localhost:8080/",
          "height": 392
        },
        "outputId": "9274f82c-f7a5-421e-901d-98c97c4b9d22"
      },
      "execution_count": null,
      "outputs": [
        {
          "output_type": "execute_result",
          "data": {
            "text/plain": [
              "         種類  価格情報区分  市区町村コード 都道府県名 市区町村名     地区名   最寄駅：名称  最寄駅：距離（分）  \\\n",
              "0  中古マンション等  成約価格情報    13102   東京都   中央区      新富  新富町(東京)        3.0   \n",
              "1  中古マンション等  成約価格情報    13102   東京都   中央区      新富  新富町(東京)        3.0   \n",
              "2  中古マンション等  成約価格情報    13102   東京都   中央区      新富  新富町(東京)        3.0   \n",
              "3  中古マンション等  成約価格情報    13102   東京都   中央区      新富  新富町(東京)        1.0   \n",
              "4  中古マンション等  成約価格情報    13102   東京都   中央区      新富  新富町(東京)        3.0   \n",
              "5  中古マンション等  成約価格情報    13102   東京都   中央区      新富  新富町(東京)        1.0   \n",
              "6  中古マンション等  成約価格情報    13102   東京都   中央区      新富  新富町(東京)        3.0   \n",
              "7  中古マンション等  成約価格情報    13102   東京都   中央区  日本橋蛎殻町     水天宮前        3.0   \n",
              "8  中古マンション等  成約価格情報    13102   東京都   中央区  日本橋蛎殻町     水天宮前        4.0   \n",
              "9  中古マンション等  成約価格情報    13102   東京都   中央区  日本橋蛎殻町     水天宮前        3.0   \n",
              "\n",
              "    取引価格（総額）   間取り  ...    建築年 建物の構造   用途 今後の利用目的 都市計画 建ぺい率（％）  容積率（％）  \\\n",
              "0  140000000  ３ＬＤＫ  ...  2001年   ＳＲＣ  NaN     NaN   商業     NaN     NaN   \n",
              "1   26000000    ２Ｋ  ...  1979年   ＳＲＣ  NaN     NaN   商業     NaN     NaN   \n",
              "2   56000000  １ＬＤＫ  ...  2007年    ＲＣ  NaN     NaN   商業     NaN     NaN   \n",
              "3   47000000  １ＬＤＫ  ...  1998年   ＳＲＣ  NaN     NaN   商業     NaN     NaN   \n",
              "4   58000000  １ＬＤＫ  ...  2007年    ＲＣ  NaN     NaN   商業     NaN     NaN   \n",
              "5  160000000  ３ＬＤＫ  ...  2015年    ＲＣ  NaN     NaN   商業     NaN     NaN   \n",
              "6   15000000    １Ｒ  ...  1980年   NaN  NaN     NaN   商業     NaN     NaN   \n",
              "7   23000000    １Ｋ  ...  2001年    ＲＣ  NaN     NaN  NaN     NaN     NaN   \n",
              "8  170000000  ３ＬＤＫ  ...  2015年    ＲＣ  NaN     NaN   商業     NaN     NaN   \n",
              "9   72000000  １ＬＤＫ  ...  2000年   ＳＲＣ  NaN     NaN   商業     NaN     NaN   \n",
              "\n",
              "         取引時期   改装 取引の事情等  \n",
              "0  2024年第2四半期  NaN    NaN  \n",
              "1  2024年第2四半期  NaN    NaN  \n",
              "2  2024年第2四半期  NaN    NaN  \n",
              "3  2024年第2四半期  NaN    NaN  \n",
              "4  2024年第2四半期  NaN    NaN  \n",
              "5  2024年第2四半期  NaN    NaN  \n",
              "6  2024年第2四半期  NaN    NaN  \n",
              "7  2024年第2四半期  NaN    NaN  \n",
              "8  2024年第2四半期  NaN    NaN  \n",
              "9  2024年第2四半期  NaN    NaN  \n",
              "\n",
              "[10 rows x 21 columns]"
            ],
            "text/html": [
              "\n",
              "  <div id=\"df-27bd23e1-a04b-4c1a-8135-a80d6e8f19cc\" class=\"colab-df-container\">\n",
              "    <div>\n",
              "<style scoped>\n",
              "    .dataframe tbody tr th:only-of-type {\n",
              "        vertical-align: middle;\n",
              "    }\n",
              "\n",
              "    .dataframe tbody tr th {\n",
              "        vertical-align: top;\n",
              "    }\n",
              "\n",
              "    .dataframe thead th {\n",
              "        text-align: right;\n",
              "    }\n",
              "</style>\n",
              "<table border=\"1\" class=\"dataframe\">\n",
              "  <thead>\n",
              "    <tr style=\"text-align: right;\">\n",
              "      <th></th>\n",
              "      <th>種類</th>\n",
              "      <th>価格情報区分</th>\n",
              "      <th>市区町村コード</th>\n",
              "      <th>都道府県名</th>\n",
              "      <th>市区町村名</th>\n",
              "      <th>地区名</th>\n",
              "      <th>最寄駅：名称</th>\n",
              "      <th>最寄駅：距離（分）</th>\n",
              "      <th>取引価格（総額）</th>\n",
              "      <th>間取り</th>\n",
              "      <th>...</th>\n",
              "      <th>建築年</th>\n",
              "      <th>建物の構造</th>\n",
              "      <th>用途</th>\n",
              "      <th>今後の利用目的</th>\n",
              "      <th>都市計画</th>\n",
              "      <th>建ぺい率（％）</th>\n",
              "      <th>容積率（％）</th>\n",
              "      <th>取引時期</th>\n",
              "      <th>改装</th>\n",
              "      <th>取引の事情等</th>\n",
              "    </tr>\n",
              "  </thead>\n",
              "  <tbody>\n",
              "    <tr>\n",
              "      <th>0</th>\n",
              "      <td>中古マンション等</td>\n",
              "      <td>成約価格情報</td>\n",
              "      <td>13102</td>\n",
              "      <td>東京都</td>\n",
              "      <td>中央区</td>\n",
              "      <td>新富</td>\n",
              "      <td>新富町(東京)</td>\n",
              "      <td>3.0</td>\n",
              "      <td>140000000</td>\n",
              "      <td>３ＬＤＫ</td>\n",
              "      <td>...</td>\n",
              "      <td>2001年</td>\n",
              "      <td>ＳＲＣ</td>\n",
              "      <td>NaN</td>\n",
              "      <td>NaN</td>\n",
              "      <td>商業</td>\n",
              "      <td>NaN</td>\n",
              "      <td>NaN</td>\n",
              "      <td>2024年第2四半期</td>\n",
              "      <td>NaN</td>\n",
              "      <td>NaN</td>\n",
              "    </tr>\n",
              "    <tr>\n",
              "      <th>1</th>\n",
              "      <td>中古マンション等</td>\n",
              "      <td>成約価格情報</td>\n",
              "      <td>13102</td>\n",
              "      <td>東京都</td>\n",
              "      <td>中央区</td>\n",
              "      <td>新富</td>\n",
              "      <td>新富町(東京)</td>\n",
              "      <td>3.0</td>\n",
              "      <td>26000000</td>\n",
              "      <td>２Ｋ</td>\n",
              "      <td>...</td>\n",
              "      <td>1979年</td>\n",
              "      <td>ＳＲＣ</td>\n",
              "      <td>NaN</td>\n",
              "      <td>NaN</td>\n",
              "      <td>商業</td>\n",
              "      <td>NaN</td>\n",
              "      <td>NaN</td>\n",
              "      <td>2024年第2四半期</td>\n",
              "      <td>NaN</td>\n",
              "      <td>NaN</td>\n",
              "    </tr>\n",
              "    <tr>\n",
              "      <th>2</th>\n",
              "      <td>中古マンション等</td>\n",
              "      <td>成約価格情報</td>\n",
              "      <td>13102</td>\n",
              "      <td>東京都</td>\n",
              "      <td>中央区</td>\n",
              "      <td>新富</td>\n",
              "      <td>新富町(東京)</td>\n",
              "      <td>3.0</td>\n",
              "      <td>56000000</td>\n",
              "      <td>１ＬＤＫ</td>\n",
              "      <td>...</td>\n",
              "      <td>2007年</td>\n",
              "      <td>ＲＣ</td>\n",
              "      <td>NaN</td>\n",
              "      <td>NaN</td>\n",
              "      <td>商業</td>\n",
              "      <td>NaN</td>\n",
              "      <td>NaN</td>\n",
              "      <td>2024年第2四半期</td>\n",
              "      <td>NaN</td>\n",
              "      <td>NaN</td>\n",
              "    </tr>\n",
              "    <tr>\n",
              "      <th>3</th>\n",
              "      <td>中古マンション等</td>\n",
              "      <td>成約価格情報</td>\n",
              "      <td>13102</td>\n",
              "      <td>東京都</td>\n",
              "      <td>中央区</td>\n",
              "      <td>新富</td>\n",
              "      <td>新富町(東京)</td>\n",
              "      <td>1.0</td>\n",
              "      <td>47000000</td>\n",
              "      <td>１ＬＤＫ</td>\n",
              "      <td>...</td>\n",
              "      <td>1998年</td>\n",
              "      <td>ＳＲＣ</td>\n",
              "      <td>NaN</td>\n",
              "      <td>NaN</td>\n",
              "      <td>商業</td>\n",
              "      <td>NaN</td>\n",
              "      <td>NaN</td>\n",
              "      <td>2024年第2四半期</td>\n",
              "      <td>NaN</td>\n",
              "      <td>NaN</td>\n",
              "    </tr>\n",
              "    <tr>\n",
              "      <th>4</th>\n",
              "      <td>中古マンション等</td>\n",
              "      <td>成約価格情報</td>\n",
              "      <td>13102</td>\n",
              "      <td>東京都</td>\n",
              "      <td>中央区</td>\n",
              "      <td>新富</td>\n",
              "      <td>新富町(東京)</td>\n",
              "      <td>3.0</td>\n",
              "      <td>58000000</td>\n",
              "      <td>１ＬＤＫ</td>\n",
              "      <td>...</td>\n",
              "      <td>2007年</td>\n",
              "      <td>ＲＣ</td>\n",
              "      <td>NaN</td>\n",
              "      <td>NaN</td>\n",
              "      <td>商業</td>\n",
              "      <td>NaN</td>\n",
              "      <td>NaN</td>\n",
              "      <td>2024年第2四半期</td>\n",
              "      <td>NaN</td>\n",
              "      <td>NaN</td>\n",
              "    </tr>\n",
              "    <tr>\n",
              "      <th>5</th>\n",
              "      <td>中古マンション等</td>\n",
              "      <td>成約価格情報</td>\n",
              "      <td>13102</td>\n",
              "      <td>東京都</td>\n",
              "      <td>中央区</td>\n",
              "      <td>新富</td>\n",
              "      <td>新富町(東京)</td>\n",
              "      <td>1.0</td>\n",
              "      <td>160000000</td>\n",
              "      <td>３ＬＤＫ</td>\n",
              "      <td>...</td>\n",
              "      <td>2015年</td>\n",
              "      <td>ＲＣ</td>\n",
              "      <td>NaN</td>\n",
              "      <td>NaN</td>\n",
              "      <td>商業</td>\n",
              "      <td>NaN</td>\n",
              "      <td>NaN</td>\n",
              "      <td>2024年第2四半期</td>\n",
              "      <td>NaN</td>\n",
              "      <td>NaN</td>\n",
              "    </tr>\n",
              "    <tr>\n",
              "      <th>6</th>\n",
              "      <td>中古マンション等</td>\n",
              "      <td>成約価格情報</td>\n",
              "      <td>13102</td>\n",
              "      <td>東京都</td>\n",
              "      <td>中央区</td>\n",
              "      <td>新富</td>\n",
              "      <td>新富町(東京)</td>\n",
              "      <td>3.0</td>\n",
              "      <td>15000000</td>\n",
              "      <td>１Ｒ</td>\n",
              "      <td>...</td>\n",
              "      <td>1980年</td>\n",
              "      <td>NaN</td>\n",
              "      <td>NaN</td>\n",
              "      <td>NaN</td>\n",
              "      <td>商業</td>\n",
              "      <td>NaN</td>\n",
              "      <td>NaN</td>\n",
              "      <td>2024年第2四半期</td>\n",
              "      <td>NaN</td>\n",
              "      <td>NaN</td>\n",
              "    </tr>\n",
              "    <tr>\n",
              "      <th>7</th>\n",
              "      <td>中古マンション等</td>\n",
              "      <td>成約価格情報</td>\n",
              "      <td>13102</td>\n",
              "      <td>東京都</td>\n",
              "      <td>中央区</td>\n",
              "      <td>日本橋蛎殻町</td>\n",
              "      <td>水天宮前</td>\n",
              "      <td>3.0</td>\n",
              "      <td>23000000</td>\n",
              "      <td>１Ｋ</td>\n",
              "      <td>...</td>\n",
              "      <td>2001年</td>\n",
              "      <td>ＲＣ</td>\n",
              "      <td>NaN</td>\n",
              "      <td>NaN</td>\n",
              "      <td>NaN</td>\n",
              "      <td>NaN</td>\n",
              "      <td>NaN</td>\n",
              "      <td>2024年第2四半期</td>\n",
              "      <td>NaN</td>\n",
              "      <td>NaN</td>\n",
              "    </tr>\n",
              "    <tr>\n",
              "      <th>8</th>\n",
              "      <td>中古マンション等</td>\n",
              "      <td>成約価格情報</td>\n",
              "      <td>13102</td>\n",
              "      <td>東京都</td>\n",
              "      <td>中央区</td>\n",
              "      <td>日本橋蛎殻町</td>\n",
              "      <td>水天宮前</td>\n",
              "      <td>4.0</td>\n",
              "      <td>170000000</td>\n",
              "      <td>３ＬＤＫ</td>\n",
              "      <td>...</td>\n",
              "      <td>2015年</td>\n",
              "      <td>ＲＣ</td>\n",
              "      <td>NaN</td>\n",
              "      <td>NaN</td>\n",
              "      <td>商業</td>\n",
              "      <td>NaN</td>\n",
              "      <td>NaN</td>\n",
              "      <td>2024年第2四半期</td>\n",
              "      <td>NaN</td>\n",
              "      <td>NaN</td>\n",
              "    </tr>\n",
              "    <tr>\n",
              "      <th>9</th>\n",
              "      <td>中古マンション等</td>\n",
              "      <td>成約価格情報</td>\n",
              "      <td>13102</td>\n",
              "      <td>東京都</td>\n",
              "      <td>中央区</td>\n",
              "      <td>日本橋蛎殻町</td>\n",
              "      <td>水天宮前</td>\n",
              "      <td>3.0</td>\n",
              "      <td>72000000</td>\n",
              "      <td>１ＬＤＫ</td>\n",
              "      <td>...</td>\n",
              "      <td>2000年</td>\n",
              "      <td>ＳＲＣ</td>\n",
              "      <td>NaN</td>\n",
              "      <td>NaN</td>\n",
              "      <td>商業</td>\n",
              "      <td>NaN</td>\n",
              "      <td>NaN</td>\n",
              "      <td>2024年第2四半期</td>\n",
              "      <td>NaN</td>\n",
              "      <td>NaN</td>\n",
              "    </tr>\n",
              "  </tbody>\n",
              "</table>\n",
              "<p>10 rows × 21 columns</p>\n",
              "</div>\n",
              "    <div class=\"colab-df-buttons\">\n",
              "\n",
              "  <div class=\"colab-df-container\">\n",
              "    <button class=\"colab-df-convert\" onclick=\"convertToInteractive('df-27bd23e1-a04b-4c1a-8135-a80d6e8f19cc')\"\n",
              "            title=\"Convert this dataframe to an interactive table.\"\n",
              "            style=\"display:none;\">\n",
              "\n",
              "  <svg xmlns=\"http://www.w3.org/2000/svg\" height=\"24px\" viewBox=\"0 -960 960 960\">\n",
              "    <path d=\"M120-120v-720h720v720H120Zm60-500h600v-160H180v160Zm220 220h160v-160H400v160Zm0 220h160v-160H400v160ZM180-400h160v-160H180v160Zm440 0h160v-160H620v160ZM180-180h160v-160H180v160Zm440 0h160v-160H620v160Z\"/>\n",
              "  </svg>\n",
              "    </button>\n",
              "\n",
              "  <style>\n",
              "    .colab-df-container {\n",
              "      display:flex;\n",
              "      gap: 12px;\n",
              "    }\n",
              "\n",
              "    .colab-df-convert {\n",
              "      background-color: #E8F0FE;\n",
              "      border: none;\n",
              "      border-radius: 50%;\n",
              "      cursor: pointer;\n",
              "      display: none;\n",
              "      fill: #1967D2;\n",
              "      height: 32px;\n",
              "      padding: 0 0 0 0;\n",
              "      width: 32px;\n",
              "    }\n",
              "\n",
              "    .colab-df-convert:hover {\n",
              "      background-color: #E2EBFA;\n",
              "      box-shadow: 0px 1px 2px rgba(60, 64, 67, 0.3), 0px 1px 3px 1px rgba(60, 64, 67, 0.15);\n",
              "      fill: #174EA6;\n",
              "    }\n",
              "\n",
              "    .colab-df-buttons div {\n",
              "      margin-bottom: 4px;\n",
              "    }\n",
              "\n",
              "    [theme=dark] .colab-df-convert {\n",
              "      background-color: #3B4455;\n",
              "      fill: #D2E3FC;\n",
              "    }\n",
              "\n",
              "    [theme=dark] .colab-df-convert:hover {\n",
              "      background-color: #434B5C;\n",
              "      box-shadow: 0px 1px 3px 1px rgba(0, 0, 0, 0.15);\n",
              "      filter: drop-shadow(0px 1px 2px rgba(0, 0, 0, 0.3));\n",
              "      fill: #FFFFFF;\n",
              "    }\n",
              "  </style>\n",
              "\n",
              "    <script>\n",
              "      const buttonEl =\n",
              "        document.querySelector('#df-27bd23e1-a04b-4c1a-8135-a80d6e8f19cc button.colab-df-convert');\n",
              "      buttonEl.style.display =\n",
              "        google.colab.kernel.accessAllowed ? 'block' : 'none';\n",
              "\n",
              "      async function convertToInteractive(key) {\n",
              "        const element = document.querySelector('#df-27bd23e1-a04b-4c1a-8135-a80d6e8f19cc');\n",
              "        const dataTable =\n",
              "          await google.colab.kernel.invokeFunction('convertToInteractive',\n",
              "                                                    [key], {});\n",
              "        if (!dataTable) return;\n",
              "\n",
              "        const docLinkHtml = 'Like what you see? Visit the ' +\n",
              "          '<a target=\"_blank\" href=https://colab.research.google.com/notebooks/data_table.ipynb>data table notebook</a>'\n",
              "          + ' to learn more about interactive tables.';\n",
              "        element.innerHTML = '';\n",
              "        dataTable['output_type'] = 'display_data';\n",
              "        await google.colab.output.renderOutput(dataTable, element);\n",
              "        const docLink = document.createElement('div');\n",
              "        docLink.innerHTML = docLinkHtml;\n",
              "        element.appendChild(docLink);\n",
              "      }\n",
              "    </script>\n",
              "  </div>\n",
              "\n",
              "\n",
              "    <div id=\"df-7497e8ed-de23-4706-b3b9-f6096bc6e8b8\">\n",
              "      <button class=\"colab-df-quickchart\" onclick=\"quickchart('df-7497e8ed-de23-4706-b3b9-f6096bc6e8b8')\"\n",
              "                title=\"Suggest charts\"\n",
              "                style=\"display:none;\">\n",
              "\n",
              "<svg xmlns=\"http://www.w3.org/2000/svg\" height=\"24px\"viewBox=\"0 0 24 24\"\n",
              "     width=\"24px\">\n",
              "    <g>\n",
              "        <path d=\"M19 3H5c-1.1 0-2 .9-2 2v14c0 1.1.9 2 2 2h14c1.1 0 2-.9 2-2V5c0-1.1-.9-2-2-2zM9 17H7v-7h2v7zm4 0h-2V7h2v10zm4 0h-2v-4h2v4z\"/>\n",
              "    </g>\n",
              "</svg>\n",
              "      </button>\n",
              "\n",
              "<style>\n",
              "  .colab-df-quickchart {\n",
              "      --bg-color: #E8F0FE;\n",
              "      --fill-color: #1967D2;\n",
              "      --hover-bg-color: #E2EBFA;\n",
              "      --hover-fill-color: #174EA6;\n",
              "      --disabled-fill-color: #AAA;\n",
              "      --disabled-bg-color: #DDD;\n",
              "  }\n",
              "\n",
              "  [theme=dark] .colab-df-quickchart {\n",
              "      --bg-color: #3B4455;\n",
              "      --fill-color: #D2E3FC;\n",
              "      --hover-bg-color: #434B5C;\n",
              "      --hover-fill-color: #FFFFFF;\n",
              "      --disabled-bg-color: #3B4455;\n",
              "      --disabled-fill-color: #666;\n",
              "  }\n",
              "\n",
              "  .colab-df-quickchart {\n",
              "    background-color: var(--bg-color);\n",
              "    border: none;\n",
              "    border-radius: 50%;\n",
              "    cursor: pointer;\n",
              "    display: none;\n",
              "    fill: var(--fill-color);\n",
              "    height: 32px;\n",
              "    padding: 0;\n",
              "    width: 32px;\n",
              "  }\n",
              "\n",
              "  .colab-df-quickchart:hover {\n",
              "    background-color: var(--hover-bg-color);\n",
              "    box-shadow: 0 1px 2px rgba(60, 64, 67, 0.3), 0 1px 3px 1px rgba(60, 64, 67, 0.15);\n",
              "    fill: var(--button-hover-fill-color);\n",
              "  }\n",
              "\n",
              "  .colab-df-quickchart-complete:disabled,\n",
              "  .colab-df-quickchart-complete:disabled:hover {\n",
              "    background-color: var(--disabled-bg-color);\n",
              "    fill: var(--disabled-fill-color);\n",
              "    box-shadow: none;\n",
              "  }\n",
              "\n",
              "  .colab-df-spinner {\n",
              "    border: 2px solid var(--fill-color);\n",
              "    border-color: transparent;\n",
              "    border-bottom-color: var(--fill-color);\n",
              "    animation:\n",
              "      spin 1s steps(1) infinite;\n",
              "  }\n",
              "\n",
              "  @keyframes spin {\n",
              "    0% {\n",
              "      border-color: transparent;\n",
              "      border-bottom-color: var(--fill-color);\n",
              "      border-left-color: var(--fill-color);\n",
              "    }\n",
              "    20% {\n",
              "      border-color: transparent;\n",
              "      border-left-color: var(--fill-color);\n",
              "      border-top-color: var(--fill-color);\n",
              "    }\n",
              "    30% {\n",
              "      border-color: transparent;\n",
              "      border-left-color: var(--fill-color);\n",
              "      border-top-color: var(--fill-color);\n",
              "      border-right-color: var(--fill-color);\n",
              "    }\n",
              "    40% {\n",
              "      border-color: transparent;\n",
              "      border-right-color: var(--fill-color);\n",
              "      border-top-color: var(--fill-color);\n",
              "    }\n",
              "    60% {\n",
              "      border-color: transparent;\n",
              "      border-right-color: var(--fill-color);\n",
              "    }\n",
              "    80% {\n",
              "      border-color: transparent;\n",
              "      border-right-color: var(--fill-color);\n",
              "      border-bottom-color: var(--fill-color);\n",
              "    }\n",
              "    90% {\n",
              "      border-color: transparent;\n",
              "      border-bottom-color: var(--fill-color);\n",
              "    }\n",
              "  }\n",
              "</style>\n",
              "\n",
              "      <script>\n",
              "        async function quickchart(key) {\n",
              "          const quickchartButtonEl =\n",
              "            document.querySelector('#' + key + ' button');\n",
              "          quickchartButtonEl.disabled = true;  // To prevent multiple clicks.\n",
              "          quickchartButtonEl.classList.add('colab-df-spinner');\n",
              "          try {\n",
              "            const charts = await google.colab.kernel.invokeFunction(\n",
              "                'suggestCharts', [key], {});\n",
              "          } catch (error) {\n",
              "            console.error('Error during call to suggestCharts:', error);\n",
              "          }\n",
              "          quickchartButtonEl.classList.remove('colab-df-spinner');\n",
              "          quickchartButtonEl.classList.add('colab-df-quickchart-complete');\n",
              "        }\n",
              "        (() => {\n",
              "          let quickchartButtonEl =\n",
              "            document.querySelector('#df-7497e8ed-de23-4706-b3b9-f6096bc6e8b8 button');\n",
              "          quickchartButtonEl.style.display =\n",
              "            google.colab.kernel.accessAllowed ? 'block' : 'none';\n",
              "        })();\n",
              "      </script>\n",
              "    </div>\n",
              "\n",
              "    </div>\n",
              "  </div>\n"
            ],
            "application/vnd.google.colaboratory.intrinsic+json": {
              "type": "dataframe",
              "variable_name": "df"
            }
          },
          "metadata": {},
          "execution_count": 4
        }
      ]
    },
    {
      "cell_type": "code",
      "source": [
        "df.info()"
      ],
      "metadata": {
        "id": "qI1hrFXQlClx",
        "colab": {
          "base_uri": "https://localhost:8080/"
        },
        "outputId": "06025a31-299e-4fcc-f97f-6c01abb60737"
      },
      "execution_count": null,
      "outputs": [
        {
          "output_type": "stream",
          "name": "stdout",
          "text": [
            "<class 'pandas.core.frame.DataFrame'>\n",
            "RangeIndex: 1790 entries, 0 to 1789\n",
            "Data columns (total 21 columns):\n",
            " #   Column     Non-Null Count  Dtype  \n",
            "---  ------     --------------  -----  \n",
            " 0   種類         1790 non-null   object \n",
            " 1   価格情報区分     1790 non-null   object \n",
            " 2   市区町村コード    1790 non-null   int64  \n",
            " 3   都道府県名      1790 non-null   object \n",
            " 4   市区町村名      1790 non-null   object \n",
            " 5   地区名        1790 non-null   object \n",
            " 6   最寄駅：名称     1776 non-null   object \n",
            " 7   最寄駅：距離（分）  1771 non-null   float64\n",
            " 8   取引価格（総額）   1790 non-null   int64  \n",
            " 9   間取り        1757 non-null   object \n",
            " 10  面積（㎡）      1790 non-null   int64  \n",
            " 11  建築年        1752 non-null   object \n",
            " 12  建物の構造      1743 non-null   object \n",
            " 13  用途         432 non-null    object \n",
            " 14  今後の利用目的    538 non-null    object \n",
            " 15  都市計画       1639 non-null   object \n",
            " 16  建ぺい率（％）    549 non-null    float64\n",
            " 17  容積率（％）     549 non-null    float64\n",
            " 18  取引時期       1790 non-null   object \n",
            " 19  改装         541 non-null    object \n",
            " 20  取引の事情等     0 non-null      float64\n",
            "dtypes: float64(4), int64(3), object(14)\n",
            "memory usage: 293.8+ KB\n"
          ]
        }
      ]
    },
    {
      "cell_type": "markdown",
      "source": [
        "#前処理"
      ],
      "metadata": {
        "id": "l0u8J-L8tpsa"
      }
    },
    {
      "cell_type": "code",
      "source": [
        "RAW = Path(\"data/raw\")\n",
        "OUT = Path(\"data/interim\"); OUT.mkdir(parents=True, exist_ok=True)"
      ],
      "metadata": {
        "id": "kUNDTc5plhM_"
      },
      "execution_count": null,
      "outputs": []
    },
    {
      "cell_type": "code",
      "source": [
        "# 必要な列だけ抽出\n",
        "df = df[[\n",
        "    \"最寄駅：名称\", \"最寄駅：距離（分）\", \"間取り\", \"面積（㎡）\",\n",
        "    \"建築年\", \"取引価格（総額）\"\n",
        "]].copy()"
      ],
      "metadata": {
        "id": "zCNboOCDsBxL"
      },
      "execution_count": null,
      "outputs": []
    },
    {
      "cell_type": "code",
      "source": [
        "# 築年数の計算\n",
        "def to_year(x):\n",
        "    if pd.isna(x): return np.nan\n",
        "    m = re.search(r\"(\\d{4})年\", str(x))\n",
        "    return int(m.group(1)) if m else np.nan"
      ],
      "metadata": {
        "id": "_uQIr0HUtMGU"
      },
      "execution_count": null,
      "outputs": []
    },
    {
      "cell_type": "code",
      "source": [
        "build_year = df[\"建築年\"].apply(to_year)\n",
        "current_year = datetime.now().year\n",
        "df[\"築年数\"] = (current_year - build_year).clip(lower=0)"
      ],
      "metadata": {
        "id": "PkH_PK2OtPNk"
      },
      "execution_count": null,
      "outputs": []
    },
    {
      "cell_type": "code",
      "source": [
        "# 数値化＆欠損処理\n",
        "for col in [\"最寄駅：距離（分）\", \"面積（㎡）\", \"築年数\"]:\n",
        "    df[col] = pd.to_numeric(df[col], errors=\"coerce\")\n",
        "    df[col] = df[col].fillna(df[col].median())"
      ],
      "metadata": {
        "id": "g9gi-stUtRf5"
      },
      "execution_count": null,
      "outputs": []
    },
    {
      "cell_type": "code",
      "source": [
        "# 間取りの正規化\n",
        "def normalize_layout(s: str):\n",
        "    if not isinstance(s, str): return \"その他\"\n",
        "    s = s.upper().replace(\"Ｌ\",\"L\").replace(\"Ｄ\",\"D\").replace(\"Ｋ\",\"K\").replace(\"Ｒ\",\"R\")\n",
        "    m = re.search(r\"(\\d+)(LDK|DK|K|R)\", s)\n",
        "    return m.group(0) if m else \"その他\""
      ],
      "metadata": {
        "id": "HJ5gV5P6tUg3"
      },
      "execution_count": null,
      "outputs": []
    },
    {
      "cell_type": "code",
      "source": [
        "df[\"layout\"] = df[\"間取り\"].astype(str).apply(normalize_layout)"
      ],
      "metadata": {
        "id": "pZdCRbzstXh-"
      },
      "execution_count": null,
      "outputs": []
    },
    {
      "cell_type": "code",
      "source": [
        "# 最終的な学習用テーブル\n",
        "train = df.rename(columns={\n",
        "    \"最寄駅：名称\": \"station\",\n",
        "    \"最寄駅：距離（分）\": \"walk_min\",\n",
        "    \"面積（㎡）\": \"area_sqm\",\n",
        "    \"取引価格（総額）\": \"price_yen\"\n",
        "})[[\"station\",\"walk_min\",\"築年数\",\"layout\",\"area_sqm\",\"price_yen\"]]"
      ],
      "metadata": {
        "id": "l-Px82f5taBt"
      },
      "execution_count": null,
      "outputs": []
    },
    {
      "cell_type": "code",
      "source": [
        "# 保存\n",
        "OUT = Path(\"data/interim\"); OUT.mkdir(parents=True, exist_ok=True)\n",
        "train.to_csv(OUT / \"train_tabular.csv\", index=False)\n",
        "print(\"Saved:\", OUT / \"train_tabular.csv\")"
      ],
      "metadata": {
        "id": "rM890wVltddR",
        "colab": {
          "base_uri": "https://localhost:8080/"
        },
        "outputId": "5ce0bbc8-fe22-432a-f257-51b70401e94a"
      },
      "execution_count": null,
      "outputs": [
        {
          "output_type": "stream",
          "name": "stdout",
          "text": [
            "Saved: data/interim/train_tabular.csv\n"
          ]
        }
      ]
    },
    {
      "cell_type": "code",
      "source": [
        "# # アプリ用の駅リスト\n",
        "# stations = sorted(train[\"station\"].dropna().unique())\n",
        "# pd.Series(stations).to_csv(OUT / \"stations.csv\", index=False, header=False)"
      ],
      "metadata": {
        "id": "BlxS6lzithHi"
      },
      "execution_count": null,
      "outputs": []
    },
    {
      "cell_type": "code",
      "source": [
        "s = (df[\"最寄駅：名称\"]\n",
        "       .astype(str)\n",
        "       .replace({\"nan\": np.nan, \"None\": np.nan, \"\": np.nan})\n",
        "       .dropna()\n",
        "       .str.normalize(\"NFKC\")                  # 全角→半角など\n",
        "       .str.replace(\"（\", \"(\", regex=False)    # 全角カッコ→半角\n",
        "       .str.replace(\"）\", \")\", regex=False)\n",
        "       .str.replace(\"　\", \" \", regex=False)    # 全角スペース→半角\n",
        "       .str.strip()\n",
        "       .str.replace(r\"\\s+\", \" \", regex=True))  # 連続空白の圧縮"
      ],
      "metadata": {
        "id": "Z1flFKCeqBh_"
      },
      "execution_count": null,
      "outputs": []
    },
    {
      "cell_type": "code",
      "source": [
        "stations = sorted(s.unique().tolist())\n",
        "\n",
        "Path(\"data/interim\").mkdir(parents=True, exist_ok=True)\n",
        "# ★ Windows/Excelでも化けないように「utf-8-sig」で保存\n",
        "pd.Series(stations).to_csv(\"data/interim/stations.csv\",\n",
        "                           index=False, header=False, encoding=\"utf-8-sig\")\n",
        "\n",
        "print(\"stations.csv 件数:\", len(stations))\n",
        "print(stations[:20])"
      ],
      "metadata": {
        "colab": {
          "base_uri": "https://localhost:8080/"
        },
        "id": "q7LwMh3nqUMG",
        "outputId": "6a569581-519a-492c-cdfa-18a58972f781"
      },
      "execution_count": null,
      "outputs": [
        {
          "output_type": "stream",
          "name": "stdout",
          "text": [
            "stations.csv 件数: 25\n",
            "['三越前', '京橋(東京)', '人形町', '八丁堀(東京)', '勝どき', '宝町(東京)', '小伝馬町', '新富町(東京)', '新日本橋', '新橋', '日本橋(東京)', '月島', '東京', '東日本橋', '東銀座', '水天宮前', '汐留', '浜町', '築地', '築地市場']\n"
          ]
        }
      ]
    },
    {
      "cell_type": "markdown",
      "source": [
        "#学習：train_baseline.py（CV＋分位点＝信頼区間つき）"
      ],
      "metadata": {
        "id": "KOD_zvjQwTc0"
      }
    },
    {
      "cell_type": "code",
      "source": [
        "from sklearn.model_selection import KFold\n",
        "from sklearn.preprocessing import OrdinalEncoder\n",
        "from sklearn.metrics import mean_squared_log_error\n",
        "from joblib import dump"
      ],
      "metadata": {
        "id": "7cxO1NDQvSkN"
      },
      "execution_count": null,
      "outputs": []
    },
    {
      "cell_type": "code",
      "source": [
        "IN = Path('data/interim/train_tabular.csv')\n",
        "MODEL_DIR = Path('models'); MODEL_DIR.mkdir(exist_ok=True, parents=True)"
      ],
      "metadata": {
        "id": "UCKeNKcQwOIt"
      },
      "execution_count": null,
      "outputs": []
    },
    {
      "cell_type": "code",
      "source": [
        "df = pd.read_csv(IN)"
      ],
      "metadata": {
        "id": "bFz2VjFswOE8"
      },
      "execution_count": null,
      "outputs": []
    },
    {
      "cell_type": "code",
      "source": [
        "feat_cat = ['station', 'layout']\n",
        "feat_num = ['walk_min', '築年数', 'area_sqm']"
      ],
      "metadata": {
        "id": "fmJfApwXwOBE"
      },
      "execution_count": null,
      "outputs": []
    },
    {
      "cell_type": "code",
      "source": [
        "X_cat = df[feat_cat].fillna('NA')\n",
        "X_num = df[feat_num]\n",
        "y = df['price_yen'].values"
      ],
      "metadata": {
        "id": "DXyXwv_bwN9E"
      },
      "execution_count": null,
      "outputs": []
    },
    {
      "cell_type": "code",
      "source": [
        "# カテゴリは序数エンコード（簡単）\n",
        "oe = OrdinalEncoder(handle_unknown='use_encoded_value', unknown_value=-1)\n",
        "X_cat_enc = oe.fit_transform(X_cat)\n",
        "X = np.hstack([X_cat_enc, X_num.values])"
      ],
      "metadata": {
        "id": "zPmK70pdxhv4"
      },
      "execution_count": null,
      "outputs": []
    },
    {
      "cell_type": "code",
      "source": [
        "# 5-fold CV\n",
        "kf = KFold(n_splits=5, shuffle=True, random_state=42)\n",
        "maes, rmsles = [], []\n",
        "best_iters = []"
      ],
      "metadata": {
        "id": "bLhKqAsgxhr_"
      },
      "execution_count": null,
      "outputs": []
    },
    {
      "cell_type": "code",
      "source": [
        "params = dict(\n",
        "    objective='regression',\n",
        "    metric='l1',\n",
        "    learning_rate=0.05,\n",
        "    num_leaves=63,\n",
        "    feature_fraction=0.9,\n",
        "    bagging_fraction=0.8,\n",
        "    bagging_freq=1,\n",
        "    verbose=-1,\n",
        "    seed=42,\n",
        ")"
      ],
      "metadata": {
        "id": "HEIUvM1fxhok"
      },
      "execution_count": null,
      "outputs": []
    },
    {
      "cell_type": "code",
      "source": [
        "for fold, (tr, va) in enumerate(kf.split(X)):\n",
        "    X_tr, X_va = X[tr], X[va]\n",
        "    y_tr, y_va = y[tr], y[va]\n",
        "\n",
        "    dtr = lgb.Dataset(X_tr, label=y_tr)\n",
        "    dva = lgb.Dataset(X_va, label=y_va)\n",
        "\n",
        "    model = lgb.train(params, dtr, valid_sets=[dva],\n",
        "                      num_boost_round=2000,\n",
        "                      callbacks=[lgb.early_stopping(100)])\n",
        "\n",
        "    pred = model.predict(X_va, num_iteration=model.best_iteration)\n",
        "    mae = mean_absolute_error(y_va, pred)\n",
        "    rmsle = np.sqrt(mean_squared_log_error(y_va.clip(min=1), pred.clip(min=1)))\n",
        "    maes.append(mae); rmsles.append(rmsle)\n",
        "    best_iters.append(model.best_iteration)\n",
        "    print(f\"Fold {fold}: MAE={mae:,.0f}, RMSLE={rmsle:.4f}\")\n",
        "\n",
        "print(f\"CV MAE: {np.mean(maes):,.0f} ± {np.std(maes):,.0f}\")\n",
        "print(f\"CV RMSLE: {np.mean(rmsles):.4f} ± {np.std(rmsles):.4f}\")"
      ],
      "metadata": {
        "id": "Gjsa6mYsxhk3",
        "colab": {
          "base_uri": "https://localhost:8080/"
        },
        "outputId": "95d4596a-532a-44ba-ad61-712d9d506a1d"
      },
      "execution_count": null,
      "outputs": [
        {
          "output_type": "stream",
          "name": "stdout",
          "text": [
            "Training until validation scores don't improve for 100 rounds\n",
            "Early stopping, best iteration is:\n",
            "[382]\tvalid_0's l1: 1.20396e+07\n",
            "Fold 0: MAE=12,039,631, RMSLE=0.1816\n",
            "Training until validation scores don't improve for 100 rounds\n",
            "Early stopping, best iteration is:\n",
            "[189]\tvalid_0's l1: 1.20705e+07\n",
            "Fold 1: MAE=12,070,542, RMSLE=0.1707\n",
            "Training until validation scores don't improve for 100 rounds\n",
            "Early stopping, best iteration is:\n",
            "[357]\tvalid_0's l1: 1.41239e+07\n",
            "Fold 2: MAE=14,123,895, RMSLE=0.1816\n",
            "Training until validation scores don't improve for 100 rounds\n",
            "Early stopping, best iteration is:\n",
            "[307]\tvalid_0's l1: 1.24812e+07\n",
            "Fold 3: MAE=12,481,249, RMSLE=0.1955\n",
            "Training until validation scores don't improve for 100 rounds\n",
            "Early stopping, best iteration is:\n",
            "[170]\tvalid_0's l1: 1.19665e+07\n",
            "Fold 4: MAE=11,966,545, RMSLE=0.1752\n",
            "CV MAE: 12,536,372 ± 813,845\n",
            "CV RMSLE: 0.1809 ± 0.0084\n"
          ]
        }
      ]
    },
    {
      "cell_type": "code",
      "source": [
        "# 全データで最終モデル学習（CVの平均best_iterationを採用）\n",
        "best_round = int(np.mean(best_iters))\n",
        "final_model = lgb.train(params, lgb.Dataset(X, label=y), num_boost_round=best_round)"
      ],
      "metadata": {
        "id": "8o-Uyja6xtNY"
      },
      "execution_count": null,
      "outputs": []
    },
    {
      "cell_type": "code",
      "source": [
        "# 信頼区間用（分位点回帰 q10/q90）\n",
        "for alpha, name in [(0.1, 'baseline_q10'), (0.9, 'baseline_q90')]:\n",
        "    q_params = params.copy(); q_params.update(dict(objective='quantile', alpha=alpha))\n",
        "    q_model = lgb.train(q_params, lgb.Dataset(X, label=y), num_boost_round=best_round)\n",
        "    dump({'model': q_model, 'encoder': oe, 'feat_cat': feat_cat, 'feat_num': feat_num},\n",
        "         f\"models/{name}.pkl\")"
      ],
      "metadata": {
        "id": "tRi6PonrxtKY"
      },
      "execution_count": null,
      "outputs": []
    },
    {
      "cell_type": "code",
      "source": [
        "# 保存\n",
        "from joblib import dump\n",
        "dump({'model': final_model, 'encoder': oe, 'feat_cat': feat_cat, 'feat_num': feat_num},\n",
        "     'models/baseline_lgbm.pkl')\n",
        "print('Saved models → models/')"
      ],
      "metadata": {
        "id": "7qQh3FURxtGw",
        "colab": {
          "base_uri": "https://localhost:8080/"
        },
        "outputId": "97c2add3-e519-418c-f10f-7d1bf453eb0f"
      },
      "execution_count": null,
      "outputs": [
        {
          "output_type": "stream",
          "name": "stdout",
          "text": [
            "Saved models → models/\n"
          ]
        }
      ]
    },
    {
      "cell_type": "code",
      "source": [
        "from google.colab import files\n",
        "files.download(\"data/interim/train_tabular.csv\")\n",
        "files.download(\"data/interim/stations.csv\")\n",
        "files.download(\"models/baseline_lgbm.pkl\")\n",
        "files.download(\"models/baseline_q10.pkl\")\n",
        "files.download(\"models/baseline_q90.pkl\")"
      ],
      "metadata": {
        "id": "yjj4Rn7I4KDD",
        "colab": {
          "base_uri": "https://localhost:8080/",
          "height": 17
        },
        "outputId": "c46e25f0-0a59-45aa-c932-2d1425bfbc86"
      },
      "execution_count": null,
      "outputs": [
        {
          "output_type": "display_data",
          "data": {
            "text/plain": [
              "<IPython.core.display.Javascript object>"
            ],
            "application/javascript": [
              "\n",
              "    async function download(id, filename, size) {\n",
              "      if (!google.colab.kernel.accessAllowed) {\n",
              "        return;\n",
              "      }\n",
              "      const div = document.createElement('div');\n",
              "      const label = document.createElement('label');\n",
              "      label.textContent = `Downloading \"${filename}\": `;\n",
              "      div.appendChild(label);\n",
              "      const progress = document.createElement('progress');\n",
              "      progress.max = size;\n",
              "      div.appendChild(progress);\n",
              "      document.body.appendChild(div);\n",
              "\n",
              "      const buffers = [];\n",
              "      let downloaded = 0;\n",
              "\n",
              "      const channel = await google.colab.kernel.comms.open(id);\n",
              "      // Send a message to notify the kernel that we're ready.\n",
              "      channel.send({})\n",
              "\n",
              "      for await (const message of channel.messages) {\n",
              "        // Send a message to notify the kernel that we're ready.\n",
              "        channel.send({})\n",
              "        if (message.buffers) {\n",
              "          for (const buffer of message.buffers) {\n",
              "            buffers.push(buffer);\n",
              "            downloaded += buffer.byteLength;\n",
              "            progress.value = downloaded;\n",
              "          }\n",
              "        }\n",
              "      }\n",
              "      const blob = new Blob(buffers, {type: 'application/binary'});\n",
              "      const a = document.createElement('a');\n",
              "      a.href = window.URL.createObjectURL(blob);\n",
              "      a.download = filename;\n",
              "      div.appendChild(a);\n",
              "      a.click();\n",
              "      div.remove();\n",
              "    }\n",
              "  "
            ]
          },
          "metadata": {}
        },
        {
          "output_type": "display_data",
          "data": {
            "text/plain": [
              "<IPython.core.display.Javascript object>"
            ],
            "application/javascript": [
              "download(\"download_a1eadbc5-55e3-4da3-a192-568d2ab8e53a\", \"train_tabular.csv\", 69382)"
            ]
          },
          "metadata": {}
        },
        {
          "output_type": "display_data",
          "data": {
            "text/plain": [
              "<IPython.core.display.Javascript object>"
            ],
            "application/javascript": [
              "\n",
              "    async function download(id, filename, size) {\n",
              "      if (!google.colab.kernel.accessAllowed) {\n",
              "        return;\n",
              "      }\n",
              "      const div = document.createElement('div');\n",
              "      const label = document.createElement('label');\n",
              "      label.textContent = `Downloading \"${filename}\": `;\n",
              "      div.appendChild(label);\n",
              "      const progress = document.createElement('progress');\n",
              "      progress.max = size;\n",
              "      div.appendChild(progress);\n",
              "      document.body.appendChild(div);\n",
              "\n",
              "      const buffers = [];\n",
              "      let downloaded = 0;\n",
              "\n",
              "      const channel = await google.colab.kernel.comms.open(id);\n",
              "      // Send a message to notify the kernel that we're ready.\n",
              "      channel.send({})\n",
              "\n",
              "      for await (const message of channel.messages) {\n",
              "        // Send a message to notify the kernel that we're ready.\n",
              "        channel.send({})\n",
              "        if (message.buffers) {\n",
              "          for (const buffer of message.buffers) {\n",
              "            buffers.push(buffer);\n",
              "            downloaded += buffer.byteLength;\n",
              "            progress.value = downloaded;\n",
              "          }\n",
              "        }\n",
              "      }\n",
              "      const blob = new Blob(buffers, {type: 'application/binary'});\n",
              "      const a = document.createElement('a');\n",
              "      a.href = window.URL.createObjectURL(blob);\n",
              "      a.download = filename;\n",
              "      div.appendChild(a);\n",
              "      a.click();\n",
              "      div.remove();\n",
              "    }\n",
              "  "
            ]
          },
          "metadata": {}
        },
        {
          "output_type": "display_data",
          "data": {
            "text/plain": [
              "<IPython.core.display.Javascript object>"
            ],
            "application/javascript": [
              "download(\"download_4a1203b9-24cb-4429-95d3-63456f17dae6\", \"stations.csv\", 290)"
            ]
          },
          "metadata": {}
        },
        {
          "output_type": "display_data",
          "data": {
            "text/plain": [
              "<IPython.core.display.Javascript object>"
            ],
            "application/javascript": [
              "\n",
              "    async function download(id, filename, size) {\n",
              "      if (!google.colab.kernel.accessAllowed) {\n",
              "        return;\n",
              "      }\n",
              "      const div = document.createElement('div');\n",
              "      const label = document.createElement('label');\n",
              "      label.textContent = `Downloading \"${filename}\": `;\n",
              "      div.appendChild(label);\n",
              "      const progress = document.createElement('progress');\n",
              "      progress.max = size;\n",
              "      div.appendChild(progress);\n",
              "      document.body.appendChild(div);\n",
              "\n",
              "      const buffers = [];\n",
              "      let downloaded = 0;\n",
              "\n",
              "      const channel = await google.colab.kernel.comms.open(id);\n",
              "      // Send a message to notify the kernel that we're ready.\n",
              "      channel.send({})\n",
              "\n",
              "      for await (const message of channel.messages) {\n",
              "        // Send a message to notify the kernel that we're ready.\n",
              "        channel.send({})\n",
              "        if (message.buffers) {\n",
              "          for (const buffer of message.buffers) {\n",
              "            buffers.push(buffer);\n",
              "            downloaded += buffer.byteLength;\n",
              "            progress.value = downloaded;\n",
              "          }\n",
              "        }\n",
              "      }\n",
              "      const blob = new Blob(buffers, {type: 'application/binary'});\n",
              "      const a = document.createElement('a');\n",
              "      a.href = window.URL.createObjectURL(blob);\n",
              "      a.download = filename;\n",
              "      div.appendChild(a);\n",
              "      a.click();\n",
              "      div.remove();\n",
              "    }\n",
              "  "
            ]
          },
          "metadata": {}
        },
        {
          "output_type": "display_data",
          "data": {
            "text/plain": [
              "<IPython.core.display.Javascript object>"
            ],
            "application/javascript": [
              "download(\"download_aeaa2a05-c42a-40aa-bb4b-f01814973b60\", \"baseline_lgbm.pkl\", 1282942)"
            ]
          },
          "metadata": {}
        },
        {
          "output_type": "display_data",
          "data": {
            "text/plain": [
              "<IPython.core.display.Javascript object>"
            ],
            "application/javascript": [
              "\n",
              "    async function download(id, filename, size) {\n",
              "      if (!google.colab.kernel.accessAllowed) {\n",
              "        return;\n",
              "      }\n",
              "      const div = document.createElement('div');\n",
              "      const label = document.createElement('label');\n",
              "      label.textContent = `Downloading \"${filename}\": `;\n",
              "      div.appendChild(label);\n",
              "      const progress = document.createElement('progress');\n",
              "      progress.max = size;\n",
              "      div.appendChild(progress);\n",
              "      document.body.appendChild(div);\n",
              "\n",
              "      const buffers = [];\n",
              "      let downloaded = 0;\n",
              "\n",
              "      const channel = await google.colab.kernel.comms.open(id);\n",
              "      // Send a message to notify the kernel that we're ready.\n",
              "      channel.send({})\n",
              "\n",
              "      for await (const message of channel.messages) {\n",
              "        // Send a message to notify the kernel that we're ready.\n",
              "        channel.send({})\n",
              "        if (message.buffers) {\n",
              "          for (const buffer of message.buffers) {\n",
              "            buffers.push(buffer);\n",
              "            downloaded += buffer.byteLength;\n",
              "            progress.value = downloaded;\n",
              "          }\n",
              "        }\n",
              "      }\n",
              "      const blob = new Blob(buffers, {type: 'application/binary'});\n",
              "      const a = document.createElement('a');\n",
              "      a.href = window.URL.createObjectURL(blob);\n",
              "      a.download = filename;\n",
              "      div.appendChild(a);\n",
              "      a.click();\n",
              "      div.remove();\n",
              "    }\n",
              "  "
            ]
          },
          "metadata": {}
        },
        {
          "output_type": "display_data",
          "data": {
            "text/plain": [
              "<IPython.core.display.Javascript object>"
            ],
            "application/javascript": [
              "download(\"download_0e6ab292-4af6-48a5-b885-7c1b15ab1f6f\", \"baseline_q10.pkl\", 1151037)"
            ]
          },
          "metadata": {}
        },
        {
          "output_type": "display_data",
          "data": {
            "text/plain": [
              "<IPython.core.display.Javascript object>"
            ],
            "application/javascript": [
              "\n",
              "    async function download(id, filename, size) {\n",
              "      if (!google.colab.kernel.accessAllowed) {\n",
              "        return;\n",
              "      }\n",
              "      const div = document.createElement('div');\n",
              "      const label = document.createElement('label');\n",
              "      label.textContent = `Downloading \"${filename}\": `;\n",
              "      div.appendChild(label);\n",
              "      const progress = document.createElement('progress');\n",
              "      progress.max = size;\n",
              "      div.appendChild(progress);\n",
              "      document.body.appendChild(div);\n",
              "\n",
              "      const buffers = [];\n",
              "      let downloaded = 0;\n",
              "\n",
              "      const channel = await google.colab.kernel.comms.open(id);\n",
              "      // Send a message to notify the kernel that we're ready.\n",
              "      channel.send({})\n",
              "\n",
              "      for await (const message of channel.messages) {\n",
              "        // Send a message to notify the kernel that we're ready.\n",
              "        channel.send({})\n",
              "        if (message.buffers) {\n",
              "          for (const buffer of message.buffers) {\n",
              "            buffers.push(buffer);\n",
              "            downloaded += buffer.byteLength;\n",
              "            progress.value = downloaded;\n",
              "          }\n",
              "        }\n",
              "      }\n",
              "      const blob = new Blob(buffers, {type: 'application/binary'});\n",
              "      const a = document.createElement('a');\n",
              "      a.href = window.URL.createObjectURL(blob);\n",
              "      a.download = filename;\n",
              "      div.appendChild(a);\n",
              "      a.click();\n",
              "      div.remove();\n",
              "    }\n",
              "  "
            ]
          },
          "metadata": {}
        },
        {
          "output_type": "display_data",
          "data": {
            "text/plain": [
              "<IPython.core.display.Javascript object>"
            ],
            "application/javascript": [
              "download(\"download_95c817e9-b466-49b7-a666-f7d8f8d8352a\", \"baseline_q90.pkl\", 1149864)"
            ]
          },
          "metadata": {}
        }
      ]
    },
    {
      "cell_type": "code",
      "source": [],
      "metadata": {
        "id": "78BQAlMooclx"
      },
      "execution_count": null,
      "outputs": []
    }
  ]
}